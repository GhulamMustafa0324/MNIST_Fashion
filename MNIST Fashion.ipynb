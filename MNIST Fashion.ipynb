{
 "cells": [
  {
   "cell_type": "markdown",
   "id": "99357c8f",
   "metadata": {},
   "source": [
    "## Image Identification with Keras"
   ]
  },
  {
   "cell_type": "markdown",
   "id": "6862294c",
   "metadata": {},
   "source": [
    "## MNIST Fashion Dataset"
   ]
  },
  {
   "cell_type": "markdown",
   "id": "cfeb21da",
   "metadata": {},
   "source": [
    "* Importing Dataset"
   ]
  },
  {
   "cell_type": "code",
   "execution_count": 3,
   "id": "c823aee0",
   "metadata": {},
   "outputs": [],
   "source": [
    "import numpy as np\n",
    "import matplotlib.pyplot as plt\n",
    "from tensorflow.keras.datasets import fashion_mnist"
   ]
  },
  {
   "cell_type": "code",
   "execution_count": 4,
   "id": "91ae49b3",
   "metadata": {
    "scrolled": true
   },
   "outputs": [],
   "source": [
    "data = fashion_mnist.load_data()"
   ]
  },
  {
   "cell_type": "code",
   "execution_count": 5,
   "id": "c0bcb382",
   "metadata": {},
   "outputs": [
    {
     "data": {
      "text/plain": [
       "((array([[[0, 0, 0, ..., 0, 0, 0],\n",
       "          [0, 0, 0, ..., 0, 0, 0],\n",
       "          [0, 0, 0, ..., 0, 0, 0],\n",
       "          ...,\n",
       "          [0, 0, 0, ..., 0, 0, 0],\n",
       "          [0, 0, 0, ..., 0, 0, 0],\n",
       "          [0, 0, 0, ..., 0, 0, 0]],\n",
       "  \n",
       "         [[0, 0, 0, ..., 0, 0, 0],\n",
       "          [0, 0, 0, ..., 0, 0, 0],\n",
       "          [0, 0, 0, ..., 0, 0, 0],\n",
       "          ...,\n",
       "          [0, 0, 0, ..., 0, 0, 0],\n",
       "          [0, 0, 0, ..., 0, 0, 0],\n",
       "          [0, 0, 0, ..., 0, 0, 0]],\n",
       "  \n",
       "         [[0, 0, 0, ..., 0, 0, 0],\n",
       "          [0, 0, 0, ..., 0, 0, 0],\n",
       "          [0, 0, 0, ..., 0, 0, 0],\n",
       "          ...,\n",
       "          [0, 0, 0, ..., 0, 0, 0],\n",
       "          [0, 0, 0, ..., 0, 0, 0],\n",
       "          [0, 0, 0, ..., 0, 0, 0]],\n",
       "  \n",
       "         ...,\n",
       "  \n",
       "         [[0, 0, 0, ..., 0, 0, 0],\n",
       "          [0, 0, 0, ..., 0, 0, 0],\n",
       "          [0, 0, 0, ..., 0, 0, 0],\n",
       "          ...,\n",
       "          [0, 0, 0, ..., 0, 0, 0],\n",
       "          [0, 0, 0, ..., 0, 0, 0],\n",
       "          [0, 0, 0, ..., 0, 0, 0]],\n",
       "  \n",
       "         [[0, 0, 0, ..., 0, 0, 0],\n",
       "          [0, 0, 0, ..., 0, 0, 0],\n",
       "          [0, 0, 0, ..., 0, 0, 0],\n",
       "          ...,\n",
       "          [0, 0, 0, ..., 0, 0, 0],\n",
       "          [0, 0, 0, ..., 0, 0, 0],\n",
       "          [0, 0, 0, ..., 0, 0, 0]],\n",
       "  \n",
       "         [[0, 0, 0, ..., 0, 0, 0],\n",
       "          [0, 0, 0, ..., 0, 0, 0],\n",
       "          [0, 0, 0, ..., 0, 0, 0],\n",
       "          ...,\n",
       "          [0, 0, 0, ..., 0, 0, 0],\n",
       "          [0, 0, 0, ..., 0, 0, 0],\n",
       "          [0, 0, 0, ..., 0, 0, 0]]], dtype=uint8),\n",
       "  array([9, 0, 0, ..., 3, 0, 5], dtype=uint8)),\n",
       " (array([[[0, 0, 0, ..., 0, 0, 0],\n",
       "          [0, 0, 0, ..., 0, 0, 0],\n",
       "          [0, 0, 0, ..., 0, 0, 0],\n",
       "          ...,\n",
       "          [0, 0, 0, ..., 0, 0, 0],\n",
       "          [0, 0, 0, ..., 0, 0, 0],\n",
       "          [0, 0, 0, ..., 0, 0, 0]],\n",
       "  \n",
       "         [[0, 0, 0, ..., 0, 0, 0],\n",
       "          [0, 0, 0, ..., 0, 0, 0],\n",
       "          [0, 0, 0, ..., 0, 0, 0],\n",
       "          ...,\n",
       "          [0, 0, 0, ..., 0, 0, 0],\n",
       "          [0, 0, 0, ..., 0, 0, 0],\n",
       "          [0, 0, 0, ..., 0, 0, 0]],\n",
       "  \n",
       "         [[0, 0, 0, ..., 0, 0, 0],\n",
       "          [0, 0, 0, ..., 0, 0, 0],\n",
       "          [0, 0, 0, ..., 0, 0, 0],\n",
       "          ...,\n",
       "          [0, 0, 0, ..., 0, 0, 0],\n",
       "          [0, 0, 0, ..., 0, 0, 0],\n",
       "          [0, 0, 0, ..., 0, 0, 0]],\n",
       "  \n",
       "         ...,\n",
       "  \n",
       "         [[0, 0, 0, ..., 0, 0, 0],\n",
       "          [0, 0, 0, ..., 0, 0, 0],\n",
       "          [0, 0, 0, ..., 0, 0, 0],\n",
       "          ...,\n",
       "          [0, 0, 0, ..., 0, 0, 0],\n",
       "          [0, 0, 0, ..., 0, 0, 0],\n",
       "          [0, 0, 0, ..., 0, 0, 0]],\n",
       "  \n",
       "         [[0, 0, 0, ..., 0, 0, 0],\n",
       "          [0, 0, 0, ..., 0, 0, 0],\n",
       "          [0, 0, 0, ..., 0, 0, 0],\n",
       "          ...,\n",
       "          [0, 0, 0, ..., 0, 0, 0],\n",
       "          [0, 0, 0, ..., 0, 0, 0],\n",
       "          [0, 0, 0, ..., 0, 0, 0]],\n",
       "  \n",
       "         [[0, 0, 0, ..., 0, 0, 0],\n",
       "          [0, 0, 0, ..., 0, 0, 0],\n",
       "          [0, 0, 0, ..., 0, 0, 0],\n",
       "          ...,\n",
       "          [0, 0, 0, ..., 0, 0, 0],\n",
       "          [0, 0, 0, ..., 0, 0, 0],\n",
       "          [0, 0, 0, ..., 0, 0, 0]]], dtype=uint8),\n",
       "  array([9, 2, 1, ..., 8, 1, 5], dtype=uint8)))"
      ]
     },
     "execution_count": 5,
     "metadata": {},
     "output_type": "execute_result"
    }
   ],
   "source": [
    "data"
   ]
  },
  {
   "cell_type": "code",
   "execution_count": 6,
   "id": "5bc338a7",
   "metadata": {},
   "outputs": [
    {
     "name": "stderr",
     "output_type": "stream",
     "text": [
      "C:\\Users\\Mustafa\\AppData\\Local\\Temp\\ipykernel_6784\\1884804757.py:1: VisibleDeprecationWarning: Creating an ndarray from ragged nested sequences (which is a list-or-tuple of lists-or-tuples-or ndarrays with different lengths or shapes) is deprecated. If you meant to do this, you must specify 'dtype=object' when creating the ndarray.\n",
      "  datas = np.array(data)\n"
     ]
    }
   ],
   "source": [
    "datas = np.array(data)"
   ]
  },
  {
   "cell_type": "code",
   "execution_count": 7,
   "id": "7b0cc1f5",
   "metadata": {},
   "outputs": [
    {
     "name": "stdout",
     "output_type": "stream",
     "text": [
      "(60000, 28, 28)\n",
      "(60000,)\n",
      "(10000, 28, 28)\n",
      "(10000,)\n"
     ]
    }
   ],
   "source": [
    "print(datas[0,0].shape)\n",
    "print(datas[0,1].shape)\n",
    "print(datas[1,0].shape)\n",
    "print(datas[1,1].shape)"
   ]
  },
  {
   "cell_type": "code",
   "execution_count": 8,
   "id": "315c45fb",
   "metadata": {},
   "outputs": [],
   "source": [
    "(train_images, train_labels),(test_images, test_labels) = fashion_mnist.load_data()"
   ]
  },
  {
   "cell_type": "code",
   "execution_count": 9,
   "id": "e66d6f3c",
   "metadata": {},
   "outputs": [
    {
     "name": "stdout",
     "output_type": "stream",
     "text": [
      "(60000, 28, 28)\n",
      "(60000,)\n",
      "(10000, 28, 28)\n",
      "(10000,)\n"
     ]
    }
   ],
   "source": [
    "print(train_images.shape)\n",
    "print(train_labels.shape)\n",
    "print(test_images.shape)\n",
    "print(test_labels.shape)"
   ]
  },
  {
   "cell_type": "code",
   "execution_count": 10,
   "id": "6c2adea1",
   "metadata": {},
   "outputs": [
    {
     "name": "stdout",
     "output_type": "stream",
     "text": [
      "(60000,)\n",
      "[0 1 2 3 4 5 6 7 8 9]\n"
     ]
    }
   ],
   "source": [
    "print(train_labels.shape)\n",
    "train_labels = np.array(train_labels)\n",
    "print(np.unique(train_labels))"
   ]
  },
  {
   "cell_type": "code",
   "execution_count": 11,
   "id": "c1f15d34",
   "metadata": {},
   "outputs": [
    {
     "name": "stdout",
     "output_type": "stream",
     "text": [
      "(10000,)\n",
      "[0 1 2 3 4 5 6 7 8 9]\n"
     ]
    }
   ],
   "source": [
    "print(test_labels.shape)\n",
    "test_labels = np.array(test_labels)\n",
    "print(np.unique(test_labels))"
   ]
  },
  {
   "cell_type": "markdown",
   "id": "7db9cdf9",
   "metadata": {},
   "source": [
    "## Plotting Images"
   ]
  },
  {
   "cell_type": "code",
   "execution_count": 12,
   "id": "ada7043f",
   "metadata": {},
   "outputs": [
    {
     "data": {
      "text/plain": [
       "<matplotlib.image.AxesImage at 0x2694e1054e0>"
      ]
     },
     "execution_count": 12,
     "metadata": {},
     "output_type": "execute_result"
    },
    {
     "data": {
      "image/png": "[encoded data removed]",
      "text/plain": [
       "<Figure size 600x300 with 2 Axes>"
      ]
     },
     "metadata": {},
     "output_type": "display_data"
    }
   ],
   "source": [
    "fig, ax = plt.subplots(1,2, figsize = (6,3))\n",
    "ax[0].imshow(train_images[1])\n",
    "ax[1].imshow(train_images[1], cmap = plt.cm.binary)"
   ]
  },
  {
   "cell_type": "code",
   "execution_count": 13,
   "id": "a47f7fd7",
   "metadata": {},
   "outputs": [
    {
     "data": {
      "text/plain": [
       "<matplotlib.image.AxesImage at 0x2694e106a70>"
      ]
     },
     "execution_count": 13,
     "metadata": {},
     "output_type": "execute_result"
    },
    {
     "data": {
      "image/png": "[encoded data removed]",
      "text/plain": [
       "<Figure size 1200x600 with 2 Axes>"
      ]
     },
     "metadata": {},
     "output_type": "display_data"
    }
   ],
   "source": [
    "fig, ax = plt.subplots(1,2,figsize = (12,6))\n",
    "ax[0].imshow(test_images[999])\n",
    "ax[1].imshow(test_images[999], cmap = plt.cm.binary)"
   ]
  },
  {
   "cell_type": "markdown",
   "id": "2eb2fd26",
   "metadata": {},
   "source": [
    "## Creating Network Architecture"
   ]
  },
  {
   "cell_type": "code",
   "execution_count": 14,
   "id": "c237d682",
   "metadata": {},
   "outputs": [],
   "source": [
    "from tensorflow.keras import models\n",
    "from tensorflow.keras import layers\n",
    "\n",
    "network = models.Sequential()\n",
    "\n",
    "network.add(layers.Dense(512, activation = 'relu',input_shape = (28*28,)))\n",
    "network.add(layers.Dense(10, activation = 'softmax'))"
   ]
  },
  {
   "cell_type": "code",
   "execution_count": 15,
   "id": "38c204cf",
   "metadata": {},
   "outputs": [],
   "source": [
    "network.compile(optimizer = 'rmsprop',loss = 'categorical_crossentropy', metrics = ['accuracy'])"
   ]
  },
  {
   "attachments": {},
   "cell_type": "markdown",
   "id": "e8624402",
   "metadata": {},
   "source": [
    "#### Adding another network"
   ]
  },
  {
   "cell_type": "code",
   "execution_count": 16,
   "id": "7f1e39ed",
   "metadata": {},
   "outputs": [],
   "source": [
    "network2 = models.Sequential()\n",
    "\n",
    "network2.add(layers.Dense(512, activation = 'relu',input_shape = (28*28,)))\n",
    "network2.add(layers.Dense(10, activation = 'softmax'))"
   ]
  },
  {
   "cell_type": "code",
   "execution_count": 17,
   "id": "fea3411a",
   "metadata": {},
   "outputs": [],
   "source": [
    "network2.compile(optimizer = 'rmsprop',loss = 'categorical_crossentropy', metrics = ['accuracy'])"
   ]
  },
  {
   "attachments": {},
   "cell_type": "markdown",
   "id": "5426f1be",
   "metadata": {},
   "source": [
    "#### Adding Network 3"
   ]
  },
  {
   "cell_type": "code",
   "execution_count": 18,
   "id": "58412ec1",
   "metadata": {},
   "outputs": [],
   "source": [
    "network3 = models.Sequential()\n",
    "\n",
    "network3.add(layers.Dense(512, activation = 'relu',input_shape = (28*28,)))\n",
    "network3.add(layers.Dense(10, activation = 'softmax'))"
   ]
  },
  {
   "cell_type": "code",
   "execution_count": 19,
   "id": "fd61127e",
   "metadata": {},
   "outputs": [],
   "source": [
    "network3.compile(optimizer = 'rmsprop',loss = 'categorical_crossentropy', metrics = ['accuracy'])\n"
   ]
  },
  {
   "attachments": {},
   "cell_type": "markdown",
   "id": "f42227fc",
   "metadata": {},
   "source": [
    "#### Adding Network 4"
   ]
  },
  {
   "cell_type": "code",
   "execution_count": 39,
   "id": "8e272ae6",
   "metadata": {},
   "outputs": [],
   "source": [
    "network4 = models.Sequential()\n",
    "\n",
    "network4.add(layers.Dense(512, activation = 'relu',input_shape = (28*28,)))\n",
    "network4.add(layers.Dense(10, activation = 'softmax'))"
   ]
  },
  {
   "cell_type": "code",
   "execution_count": 40,
   "id": "d13116e9",
   "metadata": {},
   "outputs": [],
   "source": [
    "network4.compile(optimizer = 'rmsprop',loss = 'categorical_crossentropy', metrics = ['accuracy'])\n"
   ]
  },
  {
   "cell_type": "markdown",
   "id": "c1196600",
   "metadata": {},
   "source": [
    "## Image Data"
   ]
  },
  {
   "cell_type": "code",
   "execution_count": 20,
   "id": "ebbcee35",
   "metadata": {},
   "outputs": [],
   "source": [
    "train_images = train_images.reshape(60000, 28*28)\n",
    "train_images = train_images.astype('float64')\n",
    "\n",
    "test_images = test_images.reshape(10000, 28*28)\n",
    "test_images = test_images.astype('float64')"
   ]
  },
  {
   "cell_type": "markdown",
   "id": "f052a0ca",
   "metadata": {},
   "source": [
    "## One Hot Encoding"
   ]
  },
  {
   "cell_type": "code",
   "execution_count": 21,
   "id": "6ab7bd3b",
   "metadata": {},
   "outputs": [],
   "source": [
    "from tensorflow.keras.utils import to_categorical\n",
    "train_labels = to_categorical(train_labels)\n",
    "\n",
    "test_labels = to_categorical(test_labels)"
   ]
  },
  {
   "cell_type": "markdown",
   "id": "d00f3a55",
   "metadata": {},
   "source": [
    "## Training"
   ]
  },
  {
   "attachments": {},
   "cell_type": "markdown",
   "id": "0fc9ff7a",
   "metadata": {},
   "source": [
    "#### Network 1"
   ]
  },
  {
   "cell_type": "code",
   "execution_count": 22,
   "id": "ddd866a4",
   "metadata": {},
   "outputs": [
    {
     "name": "stdout",
     "output_type": "stream",
     "text": [
      "Epoch 1/5\n",
      "469/469 [==============================] - 8s 16ms/step - loss: 19.7448 - accuracy: 0.7250\n",
      "Epoch 2/5\n",
      "469/469 [==============================] - 7s 15ms/step - loss: 0.7249 - accuracy: 0.7979\n",
      "Epoch 3/5\n",
      "469/469 [==============================] - 7s 15ms/step - loss: 0.5732 - accuracy: 0.8260\n",
      "Epoch 4/5\n",
      "469/469 [==============================] - 7s 15ms/step - loss: 0.5327 - accuracy: 0.8407\n",
      "Epoch 5/5\n",
      "469/469 [==============================] - 7s 16ms/step - loss: 0.4926 - accuracy: 0.8491\n"
     ]
    },
    {
     "data": {
      "text/plain": [
       "<keras.callbacks.History at 0x26959d95b70>"
      ]
     },
     "execution_count": 22,
     "metadata": {},
     "output_type": "execute_result"
    }
   ],
   "source": [
    "network.fit(train_images, train_labels, epochs=5, batch_size = 128)"
   ]
  },
  {
   "cell_type": "code",
   "execution_count": 23,
   "id": "492622c4",
   "metadata": {},
   "outputs": [
    {
     "name": "stdout",
     "output_type": "stream",
     "text": [
      "313/313 [==============================] - 2s 5ms/step - loss: 0.5993 - accuracy: 0.8239\n"
     ]
    }
   ],
   "source": [
    "loss , acc = network.evaluate(test_images, test_labels)"
   ]
  },
  {
   "cell_type": "code",
   "execution_count": 24,
   "id": "d9a242d2",
   "metadata": {},
   "outputs": [
    {
     "name": "stdout",
     "output_type": "stream",
     "text": [
      "313/313 [==============================] - 1s 4ms/step\n"
     ]
    }
   ],
   "source": [
    "pred = network.predict(test_images)"
   ]
  },
  {
   "cell_type": "code",
   "execution_count": 25,
   "id": "e897b45b",
   "metadata": {},
   "outputs": [
    {
     "data": {
      "text/plain": [
       "(10000, 10)"
      ]
     },
     "execution_count": 25,
     "metadata": {},
     "output_type": "execute_result"
    }
   ],
   "source": [
    "pred.shape"
   ]
  },
  {
   "attachments": {},
   "cell_type": "markdown",
   "id": "8483eb87",
   "metadata": {},
   "source": [
    "#### Network 2"
   ]
  },
  {
   "cell_type": "code",
   "execution_count": 38,
   "id": "e6d06a41",
   "metadata": {},
   "outputs": [],
   "source": [
    "network2.fit(train_images, train_labels, epochs=8, batch_size = 256)"
   ]
  },
  {
   "cell_type": "code",
   "execution_count": 27,
   "id": "b043fae4",
   "metadata": {},
   "outputs": [
    {
     "name": "stdout",
     "output_type": "stream",
     "text": [
      "313/313 [==============================] - 2s 4ms/step - loss: 0.5716 - accuracy: 0.8383\n"
     ]
    }
   ],
   "source": [
    "loss , acc = network2.evaluate(test_images, test_labels)\n"
   ]
  },
  {
   "cell_type": "code",
   "execution_count": 28,
   "id": "68af2283",
   "metadata": {},
   "outputs": [
    {
     "name": "stdout",
     "output_type": "stream",
     "text": [
      "313/313 [==============================] - 1s 3ms/step\n"
     ]
    }
   ],
   "source": [
    "second_pred = network2.predict(test_images)"
   ]
  },
  {
   "cell_type": "code",
   "execution_count": 29,
   "id": "a2c332f4",
   "metadata": {},
   "outputs": [
    {
     "data": {
      "text/plain": [
       "(10000, 10)"
      ]
     },
     "execution_count": 29,
     "metadata": {},
     "output_type": "execute_result"
    }
   ],
   "source": [
    "second_pred.shape\n"
   ]
  },
  {
   "attachments": {},
   "cell_type": "markdown",
   "id": "4124a044",
   "metadata": {},
   "source": [
    "#### Network 3"
   ]
  },
  {
   "cell_type": "code",
   "execution_count": 30,
   "id": "9b6c4dc7",
   "metadata": {},
   "outputs": [
    {
     "name": "stdout",
     "output_type": "stream",
     "text": [
      "Epoch 1/12\n",
      "118/118 [==============================] - 4s 32ms/step - loss: 47.9077 - accuracy: 0.6768\n",
      "Epoch 2/12\n",
      "118/118 [==============================] - 4s 32ms/step - loss: 6.1736 - accuracy: 0.7529\n",
      "Epoch 3/12\n",
      "118/118 [==============================] - 4s 33ms/step - loss: 1.0121 - accuracy: 0.7854\n",
      "Epoch 4/12\n",
      "118/118 [==============================] - 4s 32ms/step - loss: 0.6869 - accuracy: 0.8170\n",
      "Epoch 5/12\n",
      "118/118 [==============================] - 4s 32ms/step - loss: 0.5633 - accuracy: 0.8349\n",
      "Epoch 6/12\n",
      "118/118 [==============================] - 4s 33ms/step - loss: 0.5455 - accuracy: 0.8398\n",
      "Epoch 7/12\n",
      "118/118 [==============================] - 4s 32ms/step - loss: 0.5127 - accuracy: 0.8483\n",
      "Epoch 8/12\n",
      "118/118 [==============================] - 4s 33ms/step - loss: 0.4677 - accuracy: 0.8525\n",
      "Epoch 9/12\n",
      "118/118 [==============================] - 4s 32ms/step - loss: 0.4251 - accuracy: 0.8607\n",
      "Epoch 10/12\n",
      "118/118 [==============================] - 4s 33ms/step - loss: 0.4318 - accuracy: 0.8616\n",
      "Epoch 11/12\n",
      "118/118 [==============================] - 4s 32ms/step - loss: 0.4068 - accuracy: 0.8665\n",
      "Epoch 12/12\n",
      "118/118 [==============================] - 4s 32ms/step - loss: 0.4094 - accuracy: 0.8681\n"
     ]
    },
    {
     "data": {
      "text/plain": [
       "<keras.callbacks.History at 0x26954945900>"
      ]
     },
     "execution_count": 30,
     "metadata": {},
     "output_type": "execute_result"
    }
   ],
   "source": [
    "network3.fit(train_images, train_labels, epochs=12, batch_size = 512)\n"
   ]
  },
  {
   "cell_type": "code",
   "execution_count": 31,
   "id": "60901143",
   "metadata": {},
   "outputs": [
    {
     "name": "stdout",
     "output_type": "stream",
     "text": [
      "313/313 [==============================] - 1s 4ms/step - loss: 0.7598 - accuracy: 0.8005\n"
     ]
    }
   ],
   "source": [
    "loss , acc = network3.evaluate(test_images, test_labels)\n"
   ]
  },
  {
   "cell_type": "code",
   "execution_count": 32,
   "id": "5e0a6cf9",
   "metadata": {},
   "outputs": [
    {
     "name": "stdout",
     "output_type": "stream",
     "text": [
      "313/313 [==============================] - 1s 3ms/step\n"
     ]
    }
   ],
   "source": [
    "third_pred = network3.predict(test_images)\n"
   ]
  },
  {
   "cell_type": "code",
   "execution_count": 33,
   "id": "7005f1c3",
   "metadata": {},
   "outputs": [
    {
     "data": {
      "text/plain": [
       "(10000, 10)"
      ]
     },
     "execution_count": 33,
     "metadata": {},
     "output_type": "execute_result"
    }
   ],
   "source": [
    "third_pred.shape\n"
   ]
  },
  {
   "attachments": {},
   "cell_type": "markdown",
   "id": "7d4a0fa3",
   "metadata": {},
   "source": [
    "#### Network 4"
   ]
  },
  {
   "cell_type": "code",
   "execution_count": 41,
   "id": "d1ec46c7",
   "metadata": {},
   "outputs": [
    {
     "name": "stdout",
     "output_type": "stream",
     "text": [
      "Epoch 1/25\n",
      "59/59 [==============================] - 4s 64ms/step - loss: 87.7502 - accuracy: 0.6284\n",
      "Epoch 2/25\n",
      "59/59 [==============================] - 4s 64ms/step - loss: 13.8507 - accuracy: 0.7256\n",
      "Epoch 3/25\n",
      "59/59 [==============================] - 4s 66ms/step - loss: 5.9997 - accuracy: 0.7474\n",
      "Epoch 4/25\n",
      "59/59 [==============================] - 4s 65ms/step - loss: 2.5722 - accuracy: 0.7774\n",
      "Epoch 5/25\n",
      "59/59 [==============================] - 4s 64ms/step - loss: 0.8648 - accuracy: 0.7816\n",
      "Epoch 6/25\n",
      "59/59 [==============================] - 4s 65ms/step - loss: 0.7090 - accuracy: 0.7996\n",
      "Epoch 7/25\n",
      "59/59 [==============================] - 4s 66ms/step - loss: 0.6954 - accuracy: 0.8164\n",
      "Epoch 8/25\n",
      "59/59 [==============================] - 4s 69ms/step - loss: 0.6046 - accuracy: 0.8301\n",
      "Epoch 9/25\n",
      "59/59 [==============================] - 4s 66ms/step - loss: 0.5096 - accuracy: 0.8444\n",
      "Epoch 10/25\n",
      "59/59 [==============================] - 4s 67ms/step - loss: 0.4729 - accuracy: 0.8511\n",
      "Epoch 11/25\n",
      "59/59 [==============================] - 4s 65ms/step - loss: 0.4835 - accuracy: 0.8550\n",
      "Epoch 12/25\n",
      "59/59 [==============================] - 4s 66ms/step - loss: 0.5104 - accuracy: 0.8616\n",
      "Epoch 13/25\n",
      "59/59 [==============================] - 4s 75ms/step - loss: 0.4403 - accuracy: 0.8645\n",
      "Epoch 14/25\n",
      "59/59 [==============================] - 4s 66ms/step - loss: 0.4161 - accuracy: 0.8689\n",
      "Epoch 15/25\n",
      "59/59 [==============================] - 4s 67ms/step - loss: 0.4326 - accuracy: 0.8652\n",
      "Epoch 16/25\n",
      "59/59 [==============================] - 4s 70ms/step - loss: 0.4362 - accuracy: 0.8737\n",
      "Epoch 17/25\n",
      "59/59 [==============================] - 4s 66ms/step - loss: 0.3960 - accuracy: 0.8749\n",
      "Epoch 18/25\n",
      "59/59 [==============================] - 4s 69ms/step - loss: 0.3803 - accuracy: 0.8774\n",
      "Epoch 19/25\n",
      "59/59 [==============================] - 4s 65ms/step - loss: 0.3949 - accuracy: 0.8798\n",
      "Epoch 20/25\n",
      "59/59 [==============================] - 4s 67ms/step - loss: 0.3896 - accuracy: 0.8821\n",
      "Epoch 21/25\n",
      "59/59 [==============================] - 4s 65ms/step - loss: 0.3549 - accuracy: 0.8856\n",
      "Epoch 22/25\n",
      "59/59 [==============================] - 4s 65ms/step - loss: 0.3572 - accuracy: 0.8863\n",
      "Epoch 23/25\n",
      "59/59 [==============================] - 4s 67ms/step - loss: 0.3879 - accuracy: 0.8852\n",
      "Epoch 24/25\n",
      "59/59 [==============================] - 5s 77ms/step - loss: 0.3813 - accuracy: 0.8870\n",
      "Epoch 25/25\n",
      "59/59 [==============================] - 4s 66ms/step - loss: 0.3485 - accuracy: 0.8905\n"
     ]
    },
    {
     "data": {
      "text/plain": [
       "<keras.callbacks.History at 0x26956dbc250>"
      ]
     },
     "execution_count": 41,
     "metadata": {},
     "output_type": "execute_result"
    }
   ],
   "source": [
    "network4.fit(train_images, train_labels, epochs=25, batch_size = 1024)\n"
   ]
  },
  {
   "cell_type": "code",
   "execution_count": 42,
   "id": "e7b1b255",
   "metadata": {},
   "outputs": [
    {
     "name": "stdout",
     "output_type": "stream",
     "text": [
      "313/313 [==============================] - 2s 5ms/step - loss: 0.7148 - accuracy: 0.8529\n"
     ]
    }
   ],
   "source": [
    "loss , acc = network4.evaluate(test_images, test_labels)\n"
   ]
  },
  {
   "cell_type": "code",
   "execution_count": 43,
   "id": "1bcc8e77",
   "metadata": {},
   "outputs": [
    {
     "name": "stdout",
     "output_type": "stream",
     "text": [
      "313/313 [==============================] - 2s 5ms/step\n"
     ]
    }
   ],
   "source": [
    "fourth_pred = network4.predict(test_images)\n"
   ]
  },
  {
   "cell_type": "code",
   "execution_count": 34,
   "id": "5e31790d",
   "metadata": {},
   "outputs": [],
   "source": [
    "label_to_text = {\n",
    "0: 'T-shirt/top',\n",
    "1: 'Trouser',\n",
    "2: 'Pullover',\n",
    "3: 'Dress',\n",
    "4: 'Coat',\n",
    "5: 'Sandal',\n",
    "6: 'Shirt',\n",
    "7: 'Sneaker',\n",
    "8: 'Bag',\n",
    "9: 'Ankle boot'}"
   ]
  },
  {
   "cell_type": "code",
   "execution_count": 44,
   "id": "d07c016b",
   "metadata": {},
   "outputs": [
    {
     "name": "stdout",
     "output_type": "stream",
     "text": [
      "Sample 17:\n",
      "Actual label: Pullover\n",
      "Predicted label: Pullover\n",
      "Image:\n"
     ]
    },
    {
     "data": {
      "image/png": "[encoded data removed]",
      "text/plain": [
       "<Figure size 640x480 with 1 Axes>"
      ]
     },
     "metadata": {},
     "output_type": "display_data"
    },
    {
     "ename": "KeyboardInterrupt",
     "evalue": "",
     "output_type": "error",
     "traceback": [
      "\u001b[1;31m---------------------------------------------------------------------------\u001b[0m",
      "\u001b[1;31mKeyboardInterrupt\u001b[0m                         Traceback (most recent call last)",
      "Cell \u001b[1;32mIn[44], line 29\u001b[0m\n\u001b[0;32m     26\u001b[0m plt\u001b[39m.\u001b[39maxis(\u001b[39m'\u001b[39m\u001b[39moff\u001b[39m\u001b[39m'\u001b[39m)\n\u001b[0;32m     27\u001b[0m plt\u001b[39m.\u001b[39mshow()\n\u001b[1;32m---> 29\u001b[0m time\u001b[39m.\u001b[39;49msleep(\u001b[39m5\u001b[39;49m)\n\u001b[0;32m     30\u001b[0m clear_output(wait\u001b[39m=\u001b[39m\u001b[39mTrue\u001b[39;00m)\n\u001b[0;32m     32\u001b[0m \u001b[39m# predicted_label = predictions[i]\u001b[39;00m\n\u001b[0;32m     33\u001b[0m \u001b[39m# actual_label = np.argmax(test_labels[i])  # Convert one-hot encoded label back to a scalar value\u001b[39;00m\n\u001b[0;32m     34\u001b[0m \u001b[39m# print(f'actual label is {label_to_text[actual_label]}')\u001b[39;00m\n\u001b[1;32m   (...)\u001b[0m\n\u001b[0;32m     38\u001b[0m \u001b[39m# time.sleep(5)\u001b[39;00m\n\u001b[0;32m     39\u001b[0m \u001b[39m# clear_output(wait=True)\u001b[39;00m\n",
      "\u001b[1;31mKeyboardInterrupt\u001b[0m: "
     ]
    }
   ],
   "source": [
    "import time\n",
    "predictions = np.argmax(fourth_pred, axis=1)  \n",
    "\n",
    "for i in range(10000):\n",
    "    predicted_label = predictions[i]\n",
    "    actual_label = np.argmax(test_labels[i])  # Convert one-hot encoded label back to a scalar value\n",
    "\n",
    "    print(f\"Sample {i+1}:\")\n",
    "    print(f\"Actual label: {label_to_text[actual_label]}\")\n",
    "    print(f\"Predicted label: {label_to_text[predicted_label]}\")\n",
    "    print(\"Image:\")\n",
    "\n",
    "    plt.imshow(test_images[i].reshape(28, 28))\n",
    "    plt.axis('off')\n",
    "    plt.show()\n",
    "\n",
    "    time.sleep(5)\n",
    "    clear_output(wait=True)\n",
    "\n",
    "\n"
   ]
  },
  {
   "cell_type": "code",
   "execution_count": null,
   "id": "f395d816",
   "metadata": {},
   "outputs": [],
   "source": []
  }
 ],
 "metadata": {
  "kernelspec": {
   "display_name": "Python 3 (ipykernel)",
   "language": "python",
   "name": "python3"
  },
  "language_info": {
   "codemirror_mode": {
    "name": "ipython",
    "version": 3
   },
   "file_extension": ".py",
   "mimetype": "text/x-python",
   "name": "python",
   "nbconvert_exporter": "python",
   "pygments_lexer": "ipython3",
   "version": "3.10.8"
  }
 },
 "nbformat": 4,
 "nbformat_minor": 5
}
